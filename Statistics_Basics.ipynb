{
  "nbformat": 4,
  "nbformat_minor": 0,
  "metadata": {
    "colab": {
      "provenance": []
    },
    "kernelspec": {
      "name": "python3",
      "display_name": "Python 3"
    },
    "language_info": {
      "name": "python"
    }
  },
  "cells": [
    {
      "cell_type": "markdown",
      "source": [
        "# Assignment Questions"
      ],
      "metadata": {
        "id": "yw4J7jBzEHP2"
      }
    },
    {
      "cell_type": "markdown",
      "source": [
        "**1.What is statistics, and why is it important?**\n",
        "\n",
        "ans-Statistics is the science of collecting, analyzing, interpreting, and presenting data. It helps us make informed decisions by identifying patterns, trends, and relationships in data. Whether it's predicting the weather, evaluating economic policies, or assessing medical treatments, statistics plays a crucial role in shaping our understanding of the world.\n",
        "Here’s why statistics is important:\n",
        "- Informed Decision-Making: Businesses, governments, and individuals use statistical insights to make better choices.\n",
        "- Scientific Discovery: Researchers rely on statistics to validate theories and test hypotheses.\n",
        "- Risk Assessment: Industries like insurance and finance use statistical models to assess and manage risks.\n",
        "- Understanding Trends: Whether in social sciences, healthcare, or technology, statistics helps identify and predict trends.\n",
        "- Data-Driven Predictions: From sports analytics to election forecasting, statistics helps us anticipate outcomes.\n",
        "\n",
        "\n"
      ],
      "metadata": {
        "id": "daKb-dSVEY4y"
      }
    },
    {
      "cell_type": "markdown",
      "source": [
        "**2.What are the two main types of statistics**\n",
        "\n",
        "ans-The two main types of statistics are:\n",
        "\n",
        "1. Descriptive Statistics – These summarize and describe the main features of a data set. Common tools include measures like mean, median, mode, standard deviation, and graphs (e.g., histograms or pie charts).\n",
        "\n",
        "2. Inferential Statistics – These involve making predictions or inferences about a population based on a sample. Techniques include hypothesis testing, confidence intervals, and regression analysis.\n",
        "\n",
        "\n",
        "\n",
        "\n",
        "\n"
      ],
      "metadata": {
        "id": "Fw6-7bQlEY2M"
      }
    },
    {
      "cell_type": "markdown",
      "source": [
        "**3.What are descriptive statistics?**\n",
        "\n",
        "ans-Descriptive statistics are methods used to summarize, organize, and interpret data so that it is easier to understand. Rather than drawing conclusions beyond the data, descriptive statistics simply describe what is observed. They help reveal patterns, trends, and key characteristics of a dataset."
      ],
      "metadata": {
        "id": "isrwNTyxEYzj"
      }
    },
    {
      "cell_type": "markdown",
      "source": [
        "**4.What is inferential statistics?**\n",
        "\n",
        "ans-Inferential statistics is the branch of statistics that allows us to make predictions, generalizations, or conclusions about a larger population based on a sample of data. Instead of just describing data (as in descriptive statistics), inferential statistics helps us go beyond the numbers and determine probabilities, relationships, and cause-and-effect insights.\n",
        "\n"
      ],
      "metadata": {
        "id": "25xnGwZCEYwU"
      }
    },
    {
      "cell_type": "markdown",
      "source": [
        "**5.What is sampling in statistics?**\n",
        "\n",
        "ans-Sampling in statistics is the process of selecting a subset of individuals, items, or data points from a larger population to analyze and make inferences about the entire population. Since studying every single individual or object in a population is often impractical, sampling allows statisticians to work with manageable data while still obtaining meaningful insights."
      ],
      "metadata": {
        "id": "6eDfsKIXEYlc"
      }
    },
    {
      "cell_type": "markdown",
      "source": [
        "**6.What are the different types of sampling methods?**\n",
        "\n",
        "ans-Sampling methods in statistics are broadly classified into two main categories: probability sampling (where every individual has a known chance of selection) and non-probability sampling (where selection is based on subjective criteria).\n",
        "1. Probability Sampling Methods (Ensures randomness and equal chances of selection)\n",
        "- Simple Random Sampling: Every individual has an equal probability of being chosen, like drawing names from a hat.\n",
        "- Stratified Sampling: The population is divided into groups (strata), and samples are drawn proportionally from each group to ensure representation.\n",
        "- Systematic Sampling: A sample is selected at regular intervals (e.g., selecting every 10th person from a list).\n",
        "- Cluster Sampling: Instead of selecting individuals, entire groups (clusters) are randomly chosen, useful when data is spread over a large area.\n",
        "- Multistage Sampling: A combination of different probability sampling methods to refine selection at multiple levels.\n",
        "\n",
        "2. Non-Probability Sampling Methods (Selection is based on convenience, judgment, or connections)\n",
        "- Convenience Sampling: Selecting individuals who are easiest to reach (e.g., surveying people at a shopping mall).\n",
        "- Judgment Sampling (or Purposive Sampling): Choosing participants based on expert knowledge or criteria.\n",
        "- Snowball Sampling: Existing participants help recruit new participants, useful in hard-to-reach populations.\n",
        "- Quota Sampling: Selecting participants to meet predefined quotas based on characteristics like age or gender.\n",
        "\n",
        "\n"
      ],
      "metadata": {
        "id": "g6lLwtiiG74x"
      }
    },
    {
      "cell_type": "markdown",
      "source": [
        "**7.What is the difference between random and non-random sampling?**\n",
        "\n",
        "ans-The difference between random and non-random sampling is based on how individuals are selected from the population:\n",
        "\n",
        "1. Random Sampling\n",
        "Definition: Every member of the population has a known and equal chance of being selected.\n",
        "\n",
        "Goal: To reduce bias and produce a sample that is representative of the whole population.\n",
        "\n",
        "Examples:\n",
        "\n",
        "Simple random sampling (like drawing names from a hat)\n",
        "\n",
        "Stratified sampling (dividing the population into groups and randomly sampling within them)\n",
        "\n",
        "2. Non-Random Sampling (Non-Probability Sampling)\n",
        "Definition: Not all members of the population have a known or equal chance of being selected.\n",
        "\n",
        "Goal: Often used when random sampling is not practical, but it increases the risk of bias.\n",
        "\n",
        "Examples:\n",
        "\n",
        "Convenience sampling (choosing whoever is easiest to reach)\n",
        "\n",
        "Judgmental sampling (researcher chooses who to include)\n",
        "\n",
        "Quota sampling (selecting a specific number from different groups, but not randomly)"
      ],
      "metadata": {
        "id": "adO3NlCyG8iF"
      }
    },
    {
      "cell_type": "markdown",
      "source": [
        "**8.Define and give examples of qualitative and quantitative data?**\n",
        "\n",
        "ans-Qualitative Data (also called categorical data):\n",
        "\n",
        "Definition: Describes qualities or characteristics that can’t be measured numerically.\n",
        "\n",
        "Examples:\n",
        "\n",
        "* Eye color (blue, green, brown)\n",
        "\n",
        "* Marital status (single, married, divorced)\n",
        "\n",
        "* Types of cuisine (Italian, Chinese, Mexican)\n",
        "\n",
        "* Survey responses like “yes/no” or “agree/disagree”\n",
        "\n",
        "Quantitative Data:\n",
        "\n",
        "Definition: Refers to numerical data that can be measured or counted.\n",
        "\n",
        "Types:\n",
        "\n",
        "Discrete – Countable values (e.g., number of students in a class)\n",
        "\n",
        "Continuous – Measurable values that can take any value within a range (e.g., height, weight, temperature)\n",
        "\n",
        "Examples:\n",
        "\n",
        "* Age (25 years)\n",
        "\n",
        "* Income ($45,000/year)\n",
        "\n",
        "* Test scores (85 out of 100)\n",
        "\n",
        "* Distance traveled (10.5 km)"
      ],
      "metadata": {
        "id": "C16dgqPQG9Al"
      }
    },
    {
      "cell_type": "markdown",
      "source": [
        "**9.What are the different types of data in statistics?**\n",
        "\n",
        "ans- In statistics, data is classified based on its nature and measurement levels. The two broad types of data are qualitative data (categorical) and quantitative data (numerical). These can be further divided into more specific types:\n",
        "1. Qualitative (Categorical) Data:\n",
        "\n",
        "This type of data describes attributes or characteristics and cannot be measured numerically.\n",
        "- Nominal Data: Categories with no inherent order (e.g., gender, eye color, car brands).\n",
        "- Ordinal Data: Categories with a ranked order (e.g., customer satisfaction levels: poor, average, good).\n",
        "\n",
        "2. Quantitative (Numerical) Data:\n",
        "\n",
        "This type of data represents measurable quantities.\n",
        "- Discrete Data: Countable values, whole numbers only (e.g., number of students in a class).\n",
        "- Continuous Data: Measured values, including decimals and fractions (e.g., height, temperature).\n",
        "\n",
        "3. Structured vs. Unstructured Data:\n",
        "\n",
        "- Structured Data: Organized in a specific format (e.g., database tables, spreadsheets).\n",
        "- Unstructured Data: No predefined format (e.g., images, videos, open-ended survey responses).\n",
        "\n",
        "\n"
      ],
      "metadata": {
        "id": "pK2gRVUKG9tr"
      }
    },
    {
      "cell_type": "markdown",
      "source": [
        "**10.Explain nominal, ordinal, interval, and ratio levels of measurement?**\n",
        "\n",
        "ans-\n",
        "\n",
        "1. Nominal Level (Categorical Data):\n",
        "\n",
        "- Definition: Data is grouped into categories with no numerical value or meaningful order.\n",
        "- Examples:- Gender (Male, Female, Other)\n",
        " - Types of fruit (Apple, Banana, Orange)\n",
        " - Car brands (Toyota, Ford, Honda)\n",
        "\n",
        "- Key Feature: No ranking or mathematical operations can be performed.\n",
        "\n",
        "2. Ordinal Level (Ranked Data):\n",
        "\n",
        "- Definition: Data is categorized into ordered rankings, but differences between ranks are not equal.\n",
        "- Examples:- Customer satisfaction ratings (Poor, Average, Good, Excellent)\n",
        " - Education levels (High school, Bachelor's, Master's, PhD)\n",
        " - Military ranks (Private, Sergeant, Captain)\n",
        "\n",
        "- Key Feature: Order matters, but intervals between ranks are not uniform.\n",
        "\n",
        "3. Interval Level (Numerical Data Without True Zero):\n",
        "\n",
        "- Definition: Data is ordered, and the differences between values are meaningful, but there is no true zero (zero does not indicate \"absence\").\n",
        "- Examples:- Temperature in Celsius or Fahrenheit (0°C does not mean “no temperature”)\n",
        " - IQ scores (Difference between 100 and 110 is meaningful)\n",
        " - Time on a clock (12 AM, 1 AM, etc.)\n",
        "\n",
        "- Key Feature: Can perform addition/subtraction, but ratios (e.g., “twice as much”) are meaningless.\n",
        "\n",
        "4. Ratio Level (Numerical Data With True Zero):\n",
        "\n",
        "- Definition: Data has meaningful differences between values and a true zero point (zero means \"absence of value\").\n",
        "- Examples:- Height (0 cm means no height)\n",
        " - Weight (0 kg means no weight)\n",
        " - Income (0 dollars means no income)\n",
        "\n",
        "- Key Feature: Allows all mathematical operations, including division (e.g., 10 kg is twice as heavy as 5 kg).\n",
        "\n",
        "\n"
      ],
      "metadata": {
        "id": "eHiLqKQaK70C"
      }
    },
    {
      "cell_type": "markdown",
      "source": [
        "**11.What is the measure of central tendency?**\n",
        "\n",
        "ans- A measure of central tendency is a statistical value that represents the center or typical value of a dataset. It helps summarize data by identifying a single number that best describes the distribution. The three main measures of central tendency are:\n",
        "\n",
        "* Mean: The average of all values.\n",
        "\n",
        "* Median: The middle value when arranged in order.\n",
        "\n",
        "* Mode: The most frequently occurring value."
      ],
      "metadata": {
        "id": "l34D71ZAKrXJ"
      }
    },
    {
      "cell_type": "markdown",
      "source": [
        "**12. Define mean, median, and mode**\n",
        "\n",
        "ans-\n",
        "* Mean: The average of a set of numbers. You find it by adding up all the values and dividing by the number of values.\n",
        "\n",
        "* Median: The middle value when the numbers are arranged in order. If there's an even number of values, the median is the average of the two middle numbers.\n",
        "\n",
        "* Mode: The most frequently occurring number in a set. A dataset can have one mode, multiple modes, or even no mode if all values appear with the same frequency.\n",
        "\n"
      ],
      "metadata": {
        "id": "yV2yyRjAKrU9"
      }
    },
    {
      "cell_type": "markdown",
      "source": [
        "**13.What is the significance of the measure of central tendency?**\n",
        "\n",
        "ans- The significance of central tendency measures lies in their ability to provide a concise summary of data, making complex datasets easier to understand. Here's why they matter:\n",
        "\n",
        "* Simplification: They condense large sets of numbers into a single representative value, offering a quick overview.\n",
        "\n",
        "* Comparison: Central tendency helps compare different datasets or track trends over time.\n",
        "\n",
        "* Decision-Making: Businesses, scientists, and policymakers use these measures to analyze patterns and make informed decisions.\n",
        "\n",
        "* Identifying Patterns: These measures reveal how data is distributed, highlighting skewness and variations."
      ],
      "metadata": {
        "id": "NdMzl5DcKrSq"
      }
    },
    {
      "cell_type": "markdown",
      "source": [
        "**14.What is variance, and how is it calculated?**\n",
        "\n",
        "ans- Variance is a statistical measure that quantifies how much individual data points differ from the mean of a dataset. It helps us understand the spread or dispersion of the values.\n",
        "\n",
        "How is variance calculated?\n",
        "* Find the Mean: Calculate the average (\n",
        "𝜇\n",
        ") of the dataset.\n",
        "\n",
        "* Calculate Differences: Subtract the mean from each data point (\n",
        "𝑥\n",
        "𝑖\n",
        "−\n",
        "𝜇\n",
        ").\n",
        "\n",
        "* Square the Differences: This ensures all values are positive and emphasizes larger deviations.\n",
        "\n",
        "* Find the Average of Squared Differences:\n",
        "\n",
        " * For a population variance (\n",
        "𝜎\n",
        "2\n",
        "): Divide by the total number of data points (\n",
        "𝑁\n",
        ").\n",
        "\n",
        " * For a sample variance (\n",
        "𝑠\n",
        "2\n",
        "): Divide by\n",
        "𝑁\n",
        "−\n",
        "1\n",
        " to account for sampling variability."
      ],
      "metadata": {
        "id": "MRhv0CMeKrQT"
      }
    },
    {
      "cell_type": "markdown",
      "source": [
        "**15.What is standard deviation, and why is it important?**\n",
        "\n",
        "ans- Standard deviation is a statistical measure that indicates how much individual data points in a dataset differ from the mean (average). It helps quantify variability—whether the values are spread out or closely clustered around the mean.\n",
        "\n",
        "Why is Standard Deviation Important?\n",
        "* Measures Variability: Helps understand data spread.\n",
        "\n",
        "* Identifies Consistency: A low standard deviation means data points are close to the mean, while a high standard deviation indicates significant variability.\n",
        "\n",
        "* Supports Decision-Making: Essential in fields like finance, science, and quality control to assess risk or reliability.\n",
        "\n",
        "* Detects Outliers: Helps identify abnormal values in datasets."
      ],
      "metadata": {
        "id": "_JlND03hKrNy"
      }
    },
    {
      "cell_type": "markdown",
      "source": [
        "**16.Define and explain the term range in statistics?**\n",
        "\n",
        "ans-In statistics, range refers to the difference between the highest and lowest values in a dataset. It provides a simple measure of dispersion, indicating how spread out the values are.\n",
        "Formula:\n",
        "[ \\text{Range} = \\text{Maximum Value} - \\text{Minimum Value} ]\n",
        "Example:\n",
        "Suppose you have the following exam scores: 55, 70, 85, 90, 95\n",
        "- Maximum value = 95\n",
        "- Minimum value = 55\n",
        "- Range = 95 - 55 = 40\n",
        "\n",
        "\n"
      ],
      "metadata": {
        "id": "Kwx1AwHfKrLK"
      }
    },
    {
      "cell_type": "markdown",
      "source": [
        "**17.What is the difference between variance and standard deviation?**\n",
        "\n",
        "ans-Variance and standard deviation are both measures of dispersion, meaning they help describe how spread out a set of numbers is. But they differ in their approach:\n",
        "\n",
        "* Variance measures the average squared deviation from the mean. It gives an overall sense of how far values are from the mean, but it’s in squared units, which can be harder to interpret directly.\n",
        "\n",
        "* Standard deviation is simply the square root of the variance. This brings the measure back to the original units of the data, making it more intuitive for understanding spread."
      ],
      "metadata": {
        "id": "3LBvESDL_mxN"
      }
    },
    {
      "cell_type": "markdown",
      "source": [
        "**18.What is skewness in a dataset?**\n",
        "\n",
        "ans-Skewness describes the asymmetry of the distribution of values in a dataset. It tells you whether the data leans more toward the left or right of the mean.\n",
        "\n",
        "* Positive skew (right-skewed): The right tail is longer, meaning most values are concentrated on the lower end, but some extreme high values pull the mean higher. Example: income distribution (where a few people earn much more than the majority).\n",
        "\n",
        "* Negative skew (left-skewed): The left tail is longer, meaning most values are concentrated on the higher end, but some extreme low values pull the mean lower. Example: age of retirement (where most people retire at a similar age, but a few retire much earlier).\n",
        "\n",
        "* Zero skew (symmetric distribution): Data is evenly distributed around the mean, like a normal distribution."
      ],
      "metadata": {
        "id": "9q0IT8Tp_mu_"
      }
    },
    {
      "cell_type": "markdown",
      "source": [
        "**19.What does it mean if a dataset is positively or negatively skewed?**\n",
        "\n",
        "ans-When a dataset is positively skewed, it means the majority of data points are concentrated on the lower end, but a few extreme high values pull the distribution’s tail toward the right. This often results in the mean being higher than the median. A classic example is income distribution, where most people earn lower salaries, but a few wealthy individuals significantly raise the overall average.\n",
        "\n",
        "On the other hand, a negatively skewed dataset has the majority of values clustered toward the higher end, with a long tail extending toward the left due to extreme low values. In this case, the mean is typically lower than the median. An example is retirement age, where most people retire around a common age, but a few retire much earlier, pulling the distribution to the left."
      ],
      "metadata": {
        "id": "Ufon4_Cm_msm"
      }
    },
    {
      "cell_type": "markdown",
      "source": [
        "**20.Define and explain kurtosis?**\n",
        "\n",
        "ans- Kurtosis measures the tailedness of a distribution—how extreme values (outliers) are concentrated in the tails compared to a normal distribution.\n",
        "\n",
        "1. Types of Kurtosis:\n",
        "Mesokurtic (Normal Kurtosis): If kurtosis ≈ 3, the distribution is similar to a normal curve, meaning its tails are neither too heavy nor too light.\n",
        "\n",
        "2. Leptokurtic (High Kurtosis): If kurtosis > 3, the distribution has heavy tails with extreme outliers. Example: financial returns, where occasional large gains or losses occur.\n",
        "\n",
        "3. Platykurtic (Low Kurtosis): If kurtosis < 3, the distribution has lighter tails, meaning fewer extreme values. Example: uniform distribution, where values are spread more evenly."
      ],
      "metadata": {
        "id": "hzWeS9K__mpe"
      }
    },
    {
      "cell_type": "markdown",
      "source": [
        "**21.What is the purpose of covariance?**\n",
        "\n",
        "ans -\n",
        "* Purpose of Covariance:\n",
        " * Direction of Relationship: If covariance is positive, both variables move in the same direction (e.g., height & weight—taller people tend to be heavier). If covariance is negative, they move in opposite directions (e.g., temperature & sales of winter coats—higher temperatures lead to lower coat sales).\n",
        "\n",
        " * Understanding Linear Dependence: Covariance helps analyze how strongly variables are linked, but its value depends on units, making direct comparison tricky.\n",
        "\n",
        " * Foundation for Correlation: Since covariance is unit-dependent, correlation standardizes it, offering a more interpretable measure of relationships between variables."
      ],
      "metadata": {
        "id": "SNrbQSU6_mm-"
      }
    },
    {
      "cell_type": "markdown",
      "source": [
        "**22.What does correlation measure in statistics?**\n",
        "\n",
        "ans- Correlation measures the strength and direction of the relationship between two variables. It tells you how closely changes in one variable are associated with changes in another.\n",
        "\n",
        "Key Points:\n",
        "* Positive correlation: As one variable increases, the other tends to increase (e.g., height and weight).\n",
        "\n",
        "* Negative correlation: As one variable increases, the other tends to decrease (e.g., temperature and sales of winter coats).\n",
        "\n",
        "* Zero correlation: No relationship between the variables (e.g., shoe size and intelligence)."
      ],
      "metadata": {
        "id": "rWZEYt5J_mkn"
      }
    },
    {
      "cell_type": "markdown",
      "source": [
        "**23.What is the difference between covariance and correlation?**\n",
        "\n",
        "ans- Covariance and correlation both measure relationships between two variables, but they differ in interpretation and scale.\n",
        "\n",
        "Key Differences:\n",
        "1. Covariance:\n",
        "\n",
        "* Measures how two variables change together.\n",
        "\n",
        "* Can be positive (both increase together) or negative (one increases while the other decreases).\n",
        "\n",
        "* Its value depends on the units of the variables, making it hard to compare across datasets.\n",
        "\n",
        "2. Correlation:\n",
        "\n",
        "* Standardized version of covariance, ranging from -1 to +1.\n",
        "\n",
        "* +1 means a perfect positive relationship, -1 means a perfect negative relationship, and 0 means no relationship.\n",
        "\n",
        "* Easier to interpret since it’s unit-free."
      ],
      "metadata": {
        "id": "ppnoR6QZeTuR"
      }
    },
    {
      "cell_type": "markdown",
      "source": [
        "**24.What are some real-world applications of statistics?**\n",
        "\n",
        "ans-\n",
        "Statistics is everywhere! It plays a crucial role in decision-making, predictions, and understanding trends across various fields. Here are some real-world applications:\n",
        "\n",
        "1. Healthcare & Medicine – Used in clinical trials, epidemiology, and medical research to analyze disease patterns and treatment effectiveness.\n",
        "\n",
        "2. Business & Economics – Helps companies track sales, forecast demand, and optimize pricing strategies.\n",
        "\n",
        "3. Finance & Investing – Investors use statistical models to assess risk and predict market trends.\n",
        "\n",
        "4. Weather Forecasting – Probability models help meteorologists predict rain, storms, and climate patterns.\n",
        "\n",
        "5. Sports Analytics – Teams analyze player performance, game strategies, and injury risks using statistical methods.\n",
        "\n",
        "6. Government & Public Policy – Used in census data, election predictions, and policy-making decisions.\n",
        "\n",
        "7. Education – Helps schools assess student performance and improve teaching methods.\n",
        "\n",
        "etc."
      ],
      "metadata": {
        "id": "YhDxWjxleyQ_"
      }
    },
    {
      "cell_type": "markdown",
      "source": [
        "****"
      ],
      "metadata": {
        "id": "mWJXlcLTKrIq"
      }
    },
    {
      "cell_type": "markdown",
      "source": [
        "# Practical questions"
      ],
      "metadata": {
        "id": "o21V8KxyENjR"
      }
    },
    {
      "cell_type": "markdown",
      "source": [
        "**1.How do you calculate the mean, median, and mode of a dataset**"
      ],
      "metadata": {
        "id": "dc88mPfcO0oq"
      }
    },
    {
      "cell_type": "code",
      "source": [
        "age = [34, 28, 55, 57, 44]\n",
        "height = [160, 170, 185, 175, 155]\n",
        "nos = [1, 2, 2, 3, 3, 3, 4, 4, 4, 4]\n",
        "\n",
        "import numpy as np\n",
        "mean_result = np.mean(age)  # Mean of age\n",
        "median_result = np.median(height)  # Median of height\n",
        "\n",
        "import statistics\n",
        "mode_result = statistics.mode(nos)  # Mode of nos\n",
        "\n",
        "print(mean_result)\n",
        "print(median_result)\n",
        "print(mode_result)"
      ],
      "metadata": {
        "id": "Y4TjignNM4im",
        "colab": {
          "base_uri": "https://localhost:8080/"
        },
        "outputId": "e5096bd0-4bcf-46ae-e103-fe94def66fe0"
      },
      "execution_count": 1,
      "outputs": [
        {
          "output_type": "stream",
          "name": "stdout",
          "text": [
            "43.6\n",
            "170.0\n",
            "4\n"
          ]
        }
      ]
    },
    {
      "cell_type": "markdown",
      "source": [
        "**2.Write a Python program to compute the variance and standard deviation of a dataset?**"
      ],
      "metadata": {
        "id": "XQj6IHUlO8hz"
      }
    },
    {
      "cell_type": "code",
      "source": [
        "import numpy as np\n",
        "\n",
        "# Sample dataset\n",
        "data = [10,23,24,26,30,12,24]\n",
        "\n",
        "variance_of_dataset = np.var(data)   # variance\n",
        "standard_deviation_of_dataset = np.std(data)  # standard deviation\n",
        "\n",
        "print(f\"variance: {variance_of_dataset}\")\n",
        "print(f\"standard deviation of a dataset: {standard_deviation_of_dataset}\")"
      ],
      "metadata": {
        "id": "dh1RWrGmO9HS",
        "colab": {
          "base_uri": "https://localhost:8080/"
        },
        "outputId": "c8c36485-8680-4ce6-d3a7-977102cdee7d"
      },
      "execution_count": 2,
      "outputs": [
        {
          "output_type": "stream",
          "name": "stdout",
          "text": [
            "variance: 47.06122448979592\n",
            "standard deviation of a dataset: 6.860118402024554\n"
          ]
        }
      ]
    },
    {
      "cell_type": "markdown",
      "source": [
        "**3.Create a dataset and classify it into nominal, ordinal, interval, and ratio types**"
      ],
      "metadata": {
        "id": "cC-AZxSu06HN"
      }
    },
    {
      "cell_type": "code",
      "source": [
        "import pandas as pd\n",
        "\n",
        "# Creating a dataset\n",
        "data = pd.DataFrame({\n",
        "    \"Nominal\": [\"Red\", \"Blue\", \"Green\", \"Yellow\", \"Black\"],  # Colors (No order)\n",
        "    \"Ordinal\": [\"Low\", \"Medium\", \"High\", \"Very High\", \"Very Low\"],  # Satisfaction Level (Ordered)\n",
        "    \"Interval\": [10, 20, 30, 40, 50],  # Temperature values (No true zero)\n",
        "    \"Ratio\": [5, 15, 30, 50, 100]  # Income in dollars (True zero exists)\n",
        "})\n",
        "\n",
        "# Display dataset\n",
        "print(data)"
      ],
      "metadata": {
        "id": "6Py75cZ806ir",
        "colab": {
          "base_uri": "https://localhost:8080/"
        },
        "outputId": "b3f7ae09-5ecf-439f-cd7d-e82cf03b1516"
      },
      "execution_count": 3,
      "outputs": [
        {
          "output_type": "stream",
          "name": "stdout",
          "text": [
            "  Nominal    Ordinal  Interval  Ratio\n",
            "0     Red        Low        10      5\n",
            "1    Blue     Medium        20     15\n",
            "2   Green       High        30     30\n",
            "3  Yellow  Very High        40     50\n",
            "4   Black   Very Low        50    100\n"
          ]
        }
      ]
    },
    {
      "cell_type": "markdown",
      "source": [
        "**4. Implement sampling techniques like random sampling and stratified sampling**"
      ],
      "metadata": {
        "id": "DZgZe-Kr063F"
      }
    },
    {
      "cell_type": "code",
      "source": [
        "import pandas as pd\n",
        "\n",
        "# Sample dataset\n",
        "data = pd.DataFrame({'Value': range(1, 101)})  # 100 values\n",
        "\n",
        "# Randomly select 10 samples\n",
        "random_sample = data.sample(n=10, random_state=42)\n",
        "print(\"Random Sample:\\n\", random_sample)\n",
        "data['Category'] = ['Group A' if x <= 50 else 'Group B' for x in data['Value']]\n",
        "\n",
        "# Select 20% of each group\n",
        "stratified_sample = data.groupby('Category').sample(frac=0.2, random_state=42)\n",
        "print(\"\\nStratified Sample:\\n\", stratified_sample)"
      ],
      "metadata": {
        "id": "jAJ-alI107OS",
        "colab": {
          "base_uri": "https://localhost:8080/"
        },
        "outputId": "8535fdd5-e411-422f-edf7-72b410fed1c9"
      },
      "execution_count": 4,
      "outputs": [
        {
          "output_type": "stream",
          "name": "stdout",
          "text": [
            "Random Sample:\n",
            "     Value\n",
            "83     84\n",
            "53     54\n",
            "70     71\n",
            "45     46\n",
            "44     45\n",
            "39     40\n",
            "22     23\n",
            "80     81\n",
            "10     11\n",
            "0       1\n",
            "\n",
            "Stratified Sample:\n",
            "     Value Category\n",
            "13     14  Group A\n",
            "39     40  Group A\n",
            "30     31  Group A\n",
            "45     46  Group A\n",
            "17     18  Group A\n",
            "48     49  Group A\n",
            "26     27  Group A\n",
            "25     26  Group A\n",
            "32     33  Group A\n",
            "19     20  Group A\n",
            "79     80  Group B\n",
            "88     89  Group B\n",
            "52     53  Group B\n",
            "96     97  Group B\n",
            "95     96  Group B\n",
            "89     90  Group B\n",
            "72     73  Group B\n",
            "94     95  Group B\n",
            "60     61  Group B\n",
            "50     51  Group B\n"
          ]
        }
      ]
    },
    {
      "cell_type": "markdown",
      "source": [
        "**5.Write a Python function to calculate the range of a dataset**"
      ],
      "metadata": {
        "id": "sYhSK_Ody0BB"
      }
    },
    {
      "cell_type": "code",
      "source": [
        "import numpy as np\n",
        "def calculate_range(data):\n",
        "\n",
        "    return np.ptp(data)\n",
        "\n",
        "# Example usage\n",
        "dataset = [10, 20, 30, 40, 50]\n",
        "print(\"Range:\", calculate_range(dataset))"
      ],
      "metadata": {
        "id": "k3oTZUfFPY6q",
        "colab": {
          "base_uri": "https://localhost:8080/"
        },
        "outputId": "d669855b-4058-4d09-ef32-0ce5ee58e4fc"
      },
      "execution_count": 5,
      "outputs": [
        {
          "output_type": "stream",
          "name": "stdout",
          "text": [
            "Range: 40\n"
          ]
        }
      ]
    },
    {
      "cell_type": "markdown",
      "source": [
        "**6.Create a dataset and plot its histogram to visualize skewness**"
      ],
      "metadata": {
        "id": "AwvW8iamf0Bb"
      }
    },
    {
      "cell_type": "code",
      "source": [
        "import numpy as np\n",
        "import matplotlib.pyplot as plt\n",
        "import seaborn as sns\n",
        "\n",
        "# Generate a positively skewed dataset using exponential distribution\n",
        "np.random.seed(42)  # Ensures reproducibility\n",
        "data = np.random.exponential(scale=2, size=1000)  # Positively skewed distribution\n",
        "\n",
        "# Plot histogram\n",
        "plt.figure(figsize=(8, 5))\n",
        "sns.histplot(data, bins=30, kde=True, color=\"blue\")\n",
        "\n",
        "# Add labels and title\n",
        "plt.xlabel(\"Value\")\n",
        "plt.ylabel(\"Frequency\")\n",
        "plt.title(\"Histogram to Visualize Skewness\")\n",
        "\n",
        "# Show the plot\n",
        "plt.show()"
      ],
      "metadata": {
        "colab": {
          "base_uri": "https://localhost:8080/",
          "height": 487
        },
        "id": "RA8tl5gLf0Wp",
        "outputId": "084d5c04-0bc4-4c3f-c7ec-be1ca3b3cfbb"
      },
      "execution_count": null,
      "outputs": [
        {
          "output_type": "display_data",
          "data": {
            "text/plain": [
              "<Figure size 800x500 with 1 Axes>"
            ],
            "image/png": "[encoded data removed]"
          },
          "metadata": {}
        }
      ]
    },
    {
      "cell_type": "markdown",
      "source": [
        "**7.Calculate skewness and kurtosis of a dataset using Python libraries**"
      ],
      "metadata": {
        "id": "qPkIR1q_f1Di"
      }
    },
    {
      "cell_type": "code",
      "source": [
        "import pandas as pd\n",
        "np.random.seed(42)\n",
        "data = np.random.normal(loc=50, scale=15, size=1000)\n",
        "# Convert data into Pandas Series\n",
        "data_series = pd.Series(data)\n",
        "\n",
        "# Compute skewness and kurtosis\n",
        "print(f\"Skewness: {data_series.skew()}\")\n",
        "print(f\"Kurtosis: {data_series.kurtosis()}\")"
      ],
      "metadata": {
        "colab": {
          "base_uri": "https://localhost:8080/"
        },
        "id": "-Nye4w8Tf1oP",
        "outputId": "661d8858-ec39-4bbb-fb2e-fdd1c843d449"
      },
      "execution_count": null,
      "outputs": [
        {
          "output_type": "stream",
          "name": "stdout",
          "text": [
            "Skewness: 0.1169763688200143\n",
            "Kurtosis: 0.07256220235414812\n"
          ]
        }
      ]
    },
    {
      "cell_type": "markdown",
      "source": [
        "**8.Generate a dataset and demonstrate positive and negative skewness**"
      ],
      "metadata": {
        "id": "u8UXucs71yQp"
      }
    },
    {
      "cell_type": "code",
      "source": [
        "import numpy as np\n",
        "import matplotlib.pyplot as plt\n",
        "\n",
        "# Generate skewed datasets\n",
        "pos_skewed_data = np.random.exponential(scale=2, size=1000)  # Right-skewed\n",
        "neg_skewed_data = 10 - np.random.gamma(shape=2, scale=2, size=1000)  # Left-skewed\n",
        "\n",
        "# Plot histograms\n",
        "plt.hist(pos_skewed_data, bins=30, color=\"blue\", alpha=0.7, label=\"Positive Skew\")\n",
        "plt.hist(neg_skewed_data, bins=30, color=\"red\", alpha=0.7, label=\"Negative Skew\")\n",
        "\n",
        "plt.legend()\n",
        "plt.xlabel(\"Values\")\n",
        "plt.ylabel(\"Frequency\")\n",
        "plt.title(\"Comparing Positive and Negative Skewness\")\n",
        "\n",
        "plt.show()"
      ],
      "metadata": {
        "id": "o4Lf3HZJ1wWu",
        "colab": {
          "base_uri": "https://localhost:8080/",
          "height": 472
        },
        "outputId": "3cc93a07-4abe-4d56-d049-1107a9e10a7a"
      },
      "execution_count": 6,
      "outputs": [
        {
          "output_type": "display_data",
          "data": {
            "text/plain": [
              "<Figure size 640x480 with 1 Axes>"
            ],
            "image/png": "[encoded data removed]"
          },
          "metadata": {}
        }
      ]
    },
    {
      "cell_type": "markdown",
      "source": [
        "**9.Write a Python script to calculate covariance between two datasets**"
      ],
      "metadata": {
        "id": "uyAFTxma2iX3"
      }
    },
    {
      "cell_type": "code",
      "source": [
        "import numpy as np\n",
        "\n",
        "# Example datasets\n",
        "x = np.array([10, 20, 30, 40, 50])\n",
        "y = np.array([15, 25, 35, 45, 55])\n",
        "\n",
        "# Compute covariance\n",
        "cov_matrix = np.cov(x, y, bias=True)\n",
        "covariance = cov_matrix[0, 1]  # Extract covariance value\n",
        "\n",
        "print(f\"Covariance: {covariance}\")"
      ],
      "metadata": {
        "colab": {
          "base_uri": "https://localhost:8080/"
        },
        "id": "dOiQCxij3oK7",
        "outputId": "2e0ddbea-2404-45fa-f5eb-c7f9319f8250"
      },
      "execution_count": null,
      "outputs": [
        {
          "output_type": "stream",
          "name": "stdout",
          "text": [
            "Covariance: 200.0\n"
          ]
        }
      ]
    },
    {
      "cell_type": "markdown",
      "source": [
        "**10.Write a Python script to calculate the correlation coefficient between two datasets**"
      ],
      "metadata": {
        "id": "1Dalc92s3tAM"
      }
    },
    {
      "cell_type": "code",
      "source": [
        "import numpy as np\n",
        "\n",
        "# Example datasets\n",
        "x = np.array([10, 20, 30, 40, 50])\n",
        "y = np.array([15, 25, 35, 45, 55])\n",
        "\n",
        "# Compute Pearson correlation coefficient\n",
        "correlation_matrix = np.corrcoef(x, y)\n",
        "correlation_coefficient = correlation_matrix[0, 1]  # Extract the coefficient\n",
        "\n",
        "print(f\"Correlation Coefficient: {correlation_coefficient}\")"
      ],
      "metadata": {
        "colab": {
          "base_uri": "https://localhost:8080/"
        },
        "id": "oyvTnnWE3pGf",
        "outputId": "52c4fdef-c766-426b-9ee4-55270879e180"
      },
      "execution_count": null,
      "outputs": [
        {
          "output_type": "stream",
          "name": "stdout",
          "text": [
            "Correlation Coefficient: 1.0\n"
          ]
        }
      ]
    },
    {
      "cell_type": "markdown",
      "source": [
        "**11.Create a scatter plot to visualize the relationship between two variables**"
      ],
      "metadata": {
        "id": "4o8qgqTaOkSr"
      }
    },
    {
      "cell_type": "code",
      "source": [
        "import matplotlib.pyplot as plt\n",
        "\n",
        "# Sample data\n",
        "x = [10, 20, 30, 40, 50]\n",
        "y = [15, 25, 35, 45, 55]\n",
        "\n",
        "# Create scatter plot\n",
        "plt.scatter(x, y)\n",
        "\n",
        "# Add labels\n",
        "plt.xlabel(\"X values\")\n",
        "plt.ylabel(\"Y values\")\n",
        "plt.title(\"Simple Scatter Plot\")\n",
        "\n",
        "plt.show()"
      ],
      "metadata": {
        "colab": {
          "base_uri": "https://localhost:8080/",
          "height": 472
        },
        "id": "Pk10jIP3Okkb",
        "outputId": "2597d0da-67a5-4632-a8bd-061c68275a88"
      },
      "execution_count": null,
      "outputs": [
        {
          "output_type": "display_data",
          "data": {
            "text/plain": [
              "<Figure size 640x480 with 1 Axes>"
            ],
            "image/png": "[encoded data removed]"
          },
          "metadata": {}
        }
      ]
    },
    {
      "cell_type": "markdown",
      "source": [
        "**12.Implement and compare simple random sampling and systematic sampling**"
      ],
      "metadata": {
        "id": "yfIA4CWNOlHj"
      }
    },
    {
      "cell_type": "code",
      "source": [
        "import numpy as np\n",
        "\n",
        "data = np.arange(1, 101)  # Dataset of 100 values\n",
        "\n",
        "# Simple Random Sampling - Pick 10 random values\n",
        "random_sample = np.random.choice(data, size=10, replace=False)\n",
        "print(\"Random Sample:\", random_sample)\n",
        "\n",
        "# Systematic Sampling - Pick every 10th value\n",
        "systematic_sample = data[::10]\n",
        "print(\"Systematic Sample:\", systematic_sample)"
      ],
      "metadata": {
        "colab": {
          "base_uri": "https://localhost:8080/"
        },
        "id": "cwpRkwENOlYh",
        "outputId": "051690a2-0f2c-4a82-cefe-6044178c9e5f"
      },
      "execution_count": null,
      "outputs": [
        {
          "output_type": "stream",
          "name": "stdout",
          "text": [
            "Random Sample: [72 48 34 96 30 35 95 91  6 90]\n",
            "Systematic Sample: [ 1 11 21 31 41 51 61 71 81 91]\n"
          ]
        }
      ]
    },
    {
      "cell_type": "markdown",
      "source": [
        "**13.Calculate the mean, median, and mode of grouped data**"
      ],
      "metadata": {
        "id": "yOquXj5aPznn"
      }
    },
    {
      "cell_type": "code",
      "source": [
        "import numpy as np\n",
        "import pandas as pd\n",
        "\n",
        "# Sample dataset\n",
        "data = np.array([10, 20, 30, 30, 40, 50, 50, 50, 60, 70])\n",
        "\n",
        "# Compute mean\n",
        "mean_value = np.mean(data)\n",
        "\n",
        "# Compute median\n",
        "median_value = np.median(data)\n",
        "\n",
        "# Compute mode using Pandas (since NumPy doesn't have a direct mode function)\n",
        "mode_value = pd.Series(data).mode().values[0]\n",
        "\n",
        "print(f\"Mean: {mean_value}\")\n",
        "print(f\"Median: {median_value}\")\n",
        "print(f\"Mode: {mode_value}\")"
      ],
      "metadata": {
        "id": "l1TXOcDoPwFB",
        "colab": {
          "base_uri": "https://localhost:8080/"
        },
        "outputId": "21386546-f382-4254-f7fe-74436b2f0368"
      },
      "execution_count": 7,
      "outputs": [
        {
          "output_type": "stream",
          "name": "stdout",
          "text": [
            "Mean: 41.0\n",
            "Median: 45.0\n",
            "Mode: 50\n"
          ]
        }
      ]
    },
    {
      "cell_type": "markdown",
      "source": [
        "**14.Simulate data using Python and calculate its central tendency and dispersion.**"
      ],
      "metadata": {
        "id": "5OAPlv9CQp5g"
      }
    },
    {
      "cell_type": "code",
      "source": [
        "import numpy as np\n",
        "import pandas as pd\n",
        "\n",
        "# Simulate a dataset with 1000 values (normal distribution)\n",
        "np.random.seed(42)  # Ensure reproducibility\n",
        "data = np.random.normal(loc=50, scale=15, size=1000)\n",
        "\n",
        "# Convert to Pandas Series for easy analysis\n",
        "data_series = pd.Series(data)\n",
        "# Compute Mean, Median, and Mode\n",
        "mean_value = data_series.mean()\n",
        "median_value = data_series.median()\n",
        "mode_value = data_series.mode().values[0]\n",
        "\n",
        "print(f\"Mean: {mean_value}\")\n",
        "print(f\"Median: {median_value}\")\n",
        "print(f\"Mode: {mode_value}\")\n",
        "# Compute Variance, Standard Deviation, and Range\n",
        "variance_value = data_series.var()\n",
        "std_dev_value = data_series.std()\n",
        "range_value = data_series.max() - data_series.min()\n",
        "\n",
        "print(f\"Variance: {variance_value}\")\n",
        "print(f\"Standard Deviation: {std_dev_value}\")\n",
        "print(f\"Range: {range_value}\")"
      ],
      "metadata": {
        "colab": {
          "base_uri": "https://localhost:8080/"
        },
        "id": "MvJqZVGcQqPH",
        "outputId": "a5481234-a0f1-4e1e-851b-3554b3d37a27"
      },
      "execution_count": null,
      "outputs": [
        {
          "output_type": "stream",
          "name": "stdout",
          "text": [
            "Mean: 50.28998083733488\n",
            "Median: 50.379509183523325\n",
            "Mode: 1.380989898963911\n",
            "Variance: 215.74436705664803\n",
            "Standard Deviation: 14.688239072695135\n",
            "Range: 106.4099824608569\n"
          ]
        }
      ]
    },
    {
      "cell_type": "markdown",
      "source": [
        "**15. Use NumPy or pandas to summarize a dataset’s descriptive statistics**"
      ],
      "metadata": {
        "id": "27z5hVmQRkJ7"
      }
    },
    {
      "cell_type": "code",
      "source": [
        "import numpy as np\n",
        "\n",
        "# Generate random dataset\n",
        "data = np.random.randint(1, 100, size=50)  # 50 random numbers between 1 and 100\n",
        "\n",
        "# Compute statistics\n",
        "mean_value = np.mean(data)\n",
        "median_value = np.median(data)\n",
        "std_dev_value = np.std(data)\n",
        "variance_value = np.var(data)\n",
        "min_value = np.min(data)\n",
        "max_value = np.max(data)\n",
        "\n",
        "print(f\"Mean: {mean_value}\")\n",
        "print(f\"Median: {median_value}\")\n",
        "print(f\"Standard Deviation: {std_dev_value}\")\n",
        "print(f\"Variance: {variance_value}\")\n",
        "print(f\"Min: {min_value}, Max: {max_value}\")"
      ],
      "metadata": {
        "colab": {
          "base_uri": "https://localhost:8080/"
        },
        "id": "roKkKFMPRkdh",
        "outputId": "f926d7ea-1edd-4664-a875-b498a0dc1c54"
      },
      "execution_count": null,
      "outputs": [
        {
          "output_type": "stream",
          "name": "stdout",
          "text": [
            "Mean: 46.12\n",
            "Median: 49.5\n",
            "Standard Deviation: 28.8316770237182\n",
            "Variance: 831.2656\n",
            "Min: 3, Max: 95\n"
          ]
        }
      ]
    },
    {
      "cell_type": "markdown",
      "source": [
        "**16.Plot a boxplot to understand the spread and identify outliers**"
      ],
      "metadata": {
        "id": "LAsVV2OpSJJ9"
      }
    },
    {
      "cell_type": "code",
      "source": [
        "import numpy as np\n",
        "import matplotlib.pyplot as plt\n",
        "import seaborn as sns\n",
        "\n",
        "# Generate a random dataset\n",
        "np.random.seed(42)\n",
        "data = np.random.randint(1, 100, size=50)  # 50 random values between 1 and 100\n",
        "\n",
        "# Add outliers for demonstration\n",
        "data = np.append(data, [150, 160, 170])  # Adding extreme values\n",
        "\n",
        "# Create a boxplot\n",
        "plt.figure(figsize=(6, 4))\n",
        "sns.boxplot(x=data, color=\"skyblue\")\n",
        "\n",
        "# Add labels\n",
        "plt.xlabel(\"Values\")\n",
        "plt.title(\"Boxplot: Detecting Spread & Outliers\")\n",
        "\n",
        "plt.show()"
      ],
      "metadata": {
        "colab": {
          "base_uri": "https://localhost:8080/",
          "height": 410
        },
        "id": "HW0QCjc9SFZe",
        "outputId": "00d7747b-5a53-46e0-bab8-24091446c8b0"
      },
      "execution_count": null,
      "outputs": [
        {
          "output_type": "display_data",
          "data": {
            "text/plain": [
              "<Figure size 600x400 with 1 Axes>"
            ],
            "image/png": "[encoded data removed]"
          },
          "metadata": {}
        }
      ]
    },
    {
      "cell_type": "markdown",
      "source": [
        "**17.Calculate the interquartile range (IQR) of a dataset**"
      ],
      "metadata": {
        "id": "ODLWdzODTov_"
      }
    },
    {
      "cell_type": "code",
      "source": [
        "import numpy as np\n",
        "\n",
        "# Example dataset\n",
        "data = np.array([10, 15, 25, 30, 45, 50, 55, 60, 75, 80])\n",
        "\n",
        "# Compute quartiles\n",
        "Q1 = np.percentile(data, 25)\n",
        "Q3 = np.percentile(data, 75)\n",
        "\n",
        "# Compute IQR\n",
        "IQR = Q3 - Q1\n",
        "\n",
        "print(f\"Q1 (25th percentile): {Q1}\")\n",
        "print(f\"Q3 (75th percentile): {Q3}\")\n",
        "print(f\"Interquartile Range (IQR): {IQR}\")"
      ],
      "metadata": {
        "colab": {
          "base_uri": "https://localhost:8080/"
        },
        "id": "KQSJz3rlTKIl",
        "outputId": "3d75fa0f-b4fb-4258-9772-539c6ecc0b68"
      },
      "execution_count": null,
      "outputs": [
        {
          "output_type": "stream",
          "name": "stdout",
          "text": [
            "Q1 (25th percentile): 26.25\n",
            "Q3 (75th percentile): 58.75\n",
            "Interquartile Range (IQR): 32.5\n"
          ]
        }
      ]
    },
    {
      "cell_type": "markdown",
      "source": [
        "**18. Implement Z-score normalization and explain its significance**"
      ],
      "metadata": {
        "id": "p64DPPgTT9e5"
      }
    },
    {
      "cell_type": "code",
      "source": [
        "import numpy as np\n",
        "import pandas as pd\n",
        "\n",
        "# Sample dataset\n",
        "data = np.array([10, 20, 30, 40, 50])\n",
        "\n",
        "# Compute Z-scores\n",
        "mean = np.mean(data)\n",
        "std_dev = np.std(data)\n",
        "z_scores = (data - mean) / std_dev\n",
        "\n",
        "print(\"Original Data:\", data)\n",
        "print(\"Z-score Normalized Data:\", z_scores)"
      ],
      "metadata": {
        "id": "Wd3UeKYST8ed",
        "colab": {
          "base_uri": "https://localhost:8080/"
        },
        "outputId": "ee4029a2-3c88-4610-fb35-e42dd0327d41"
      },
      "execution_count": 8,
      "outputs": [
        {
          "output_type": "stream",
          "name": "stdout",
          "text": [
            "Original Data: [10 20 30 40 50]\n",
            "Z-score Normalized Data: [-1.41421356 -0.70710678  0.          0.70710678  1.41421356]\n"
          ]
        }
      ]
    },
    {
      "cell_type": "markdown",
      "source": [
        "**19.Compare two datasets using their standard deviations**"
      ],
      "metadata": {
        "id": "Fb4kk1gvT-Uf"
      }
    },
    {
      "cell_type": "code",
      "source": [
        "import numpy as np\n",
        "\n",
        "# Example datasets\n",
        "data1 = np.array([10, 20, 30, 40, 50])\n",
        "data2 = np.array([5, 25, 50, 75, 100])\n",
        "\n",
        "# Compute standard deviations\n",
        "std_dev1 = np.std(data1, ddof=0)  # Population Standard Deviation\n",
        "std_dev2 = np.std(data2, ddof=0)\n",
        "\n",
        "print(f\"Standard Deviation of Dataset 1: {std_dev1}\")\n",
        "print(f\"Standard Deviation of Dataset 2: {std_dev2}\")\n",
        "\n",
        "# Compare\n",
        "if std_dev1 > std_dev2:\n",
        "    print(\"Dataset 1 has greater variability.\")\n",
        "elif std_dev1 < std_dev2:\n",
        "    print(\"Dataset 2 has greater variability.\")\n",
        "else:\n",
        "    print(\"Both datasets have similar variability.\")"
      ],
      "metadata": {
        "colab": {
          "base_uri": "https://localhost:8080/"
        },
        "id": "9OJEcJKOT-2-",
        "outputId": "97fd0039-4aa3-4546-fddc-3cc40d588e69"
      },
      "execution_count": null,
      "outputs": [
        {
          "output_type": "stream",
          "name": "stdout",
          "text": [
            "Standard Deviation of Dataset 1: 14.142135623730951\n",
            "Standard Deviation of Dataset 2: 33.97057550292606\n",
            "Dataset 2 has greater variability.\n"
          ]
        }
      ]
    },
    {
      "cell_type": "markdown",
      "source": [
        "**20.Write a Python program to visualize covariance using a heatmap**"
      ],
      "metadata": {
        "id": "fE3qqIglT_c1"
      }
    },
    {
      "cell_type": "code",
      "source": [
        "import numpy as np\n",
        "import pandas as pd\n",
        "import seaborn as sns\n",
        "import matplotlib.pyplot as plt\n",
        "\n",
        "# Generate a random dataset\n",
        "np.random.seed(42)\n",
        "data = pd.DataFrame({\n",
        "    \"X\": np.random.randint(10, 50, size=50),\n",
        "    \"Y\": np.random.randint(20, 60, size=50),\n",
        "    \"Z\": np.random.randint(30, 70, size=50)\n",
        "})\n",
        "\n",
        "# Compute covariance matrix\n",
        "cov_matrix = data.cov()\n",
        "\n",
        "# Plot heatmap\n",
        "plt.figure(figsize=(6, 4))\n",
        "sns.heatmap(cov_matrix, annot=True, cmap=\"coolwarm\", fmt=\".2f\")\n",
        "\n",
        "# Add title\n",
        "plt.title(\"Covariance Heatmap\")\n",
        "\n",
        "plt.show()"
      ],
      "metadata": {
        "colab": {
          "base_uri": "https://localhost:8080/",
          "height": 391
        },
        "id": "RraPQNKhT_tm",
        "outputId": "e1737e9b-4d56-4535-f263-143d80ace32e"
      },
      "execution_count": null,
      "outputs": [
        {
          "output_type": "display_data",
          "data": {
            "text/plain": [
              "<Figure size 600x400 with 2 Axes>"
            ],
            "image/png": "[encoded data removed]"
          },
          "metadata": {}
        }
      ]
    },
    {
      "cell_type": "markdown",
      "source": [
        "**21.Use seaborn to create a correlation matrix for a dataset**"
      ],
      "metadata": {
        "id": "Ph-wx2cGWL6L"
      }
    },
    {
      "cell_type": "code",
      "source": [
        "import numpy as np\n",
        "import pandas as pd\n",
        "import seaborn as sns\n",
        "import matplotlib.pyplot as plt\n",
        "\n",
        "# Generate a sample dataset\n",
        "np.random.seed(42)\n",
        "data = pd.DataFrame({\n",
        "    \"X\": np.random.randint(10, 50, size=50),\n",
        "    \"Y\": np.random.randint(20, 60, size=50),\n",
        "    \"Z\": np.random.randint(30, 70, size=50)\n",
        "})\n",
        "\n",
        "# Compute correlation matrix\n",
        "corr_matrix = data.corr()\n",
        "\n",
        "# Plot correlation heatmap\n",
        "plt.figure(figsize=(6, 4))\n",
        "sns.heatmap(corr_matrix, annot=True, cmap=\"coolwarm\", fmt=\".2f\")\n",
        "\n",
        "# Add title\n",
        "plt.title(\"Correlation Matrix Heatmap\")\n",
        "\n",
        "plt.show()"
      ],
      "metadata": {
        "colab": {
          "base_uri": "https://localhost:8080/",
          "height": 391
        },
        "id": "z9b13HMjWMR6",
        "outputId": "d60e62a2-8d57-4ec9-cb1b-43fb243420e9"
      },
      "execution_count": null,
      "outputs": [
        {
          "output_type": "display_data",
          "data": {
            "text/plain": [
              "<Figure size 600x400 with 2 Axes>"
            ],
            "image/png": "[encoded data removed]"
          },
          "metadata": {}
        }
      ]
    },
    {
      "cell_type": "markdown",
      "source": [
        "**22. Generate a dataset and implement both variance and standard deviation computations**"
      ],
      "metadata": {
        "id": "0z_v0PeVWM5E"
      }
    },
    {
      "cell_type": "code",
      "source": [
        "import numpy as np\n",
        "\n",
        "# Generate a random dataset\n",
        "np.random.seed(42)\n",
        "data = np.random.randint(1, 100, size=50)  # 50 random values between 1 and 100\n",
        "\n",
        "# Compute variance\n",
        "variance_value = np.var(data, ddof=0)  # Population variance\n",
        "\n",
        "# Compute standard deviation\n",
        "std_dev_value = np.std(data, ddof=0)  # Population standard deviation\n",
        "\n",
        "print(f\"Generated Data: {data}\")\n",
        "print(f\"Variance: {variance_value}\")\n",
        "print(f\"Standard Deviation: {std_dev_value}\")"
      ],
      "metadata": {
        "colab": {
          "base_uri": "https://localhost:8080/"
        },
        "id": "DyC1XAJfWLK7",
        "outputId": "346485ab-0894-4269-a291-cfce43f69dbe"
      },
      "execution_count": null,
      "outputs": [
        {
          "output_type": "stream",
          "name": "stdout",
          "text": [
            "Generated Data: [52 93 15 72 61 21 83 87 75 75 88 24  3 22 53  2 88 30 38  2 64 60 21 33\n",
            " 76 58 22 89 49 91 59 42 92 60 80 15 62 62 47 62 51 55 64  3 51  7 21 73\n",
            " 39 18]\n",
            "Variance: 749.44\n",
            "Standard Deviation: 27.375901811629877\n"
          ]
        }
      ]
    },
    {
      "cell_type": "markdown",
      "source": [
        "**23.Visualize skewness and kurtosis using Python libraries like matplotlib or seaborn**"
      ],
      "metadata": {
        "id": "Tme3oOl5YQAo"
      }
    },
    {
      "cell_type": "code",
      "source": [
        "import numpy as np\n",
        "import matplotlib.pyplot as plt\n",
        "import seaborn as sns\n",
        "from scipy.stats import skew, kurtosis\n",
        "\n",
        "# Generate a dataset\n",
        "data = np.random.normal(50, 15, 1000)  # Normal distribution\n",
        "\n",
        "# Compute skewness and kurtosis\n",
        "print(f\"Skewness: {skew(data):.2f}\")\n",
        "print(f\"Kurtosis: {kurtosis(data):.2f}\")\n",
        "\n",
        "# Plot histogram with KDE\n",
        "sns.histplot(data, bins=30, kde=True)\n",
        "plt.title(\"Skewness & Kurtosis Visualization\")\n",
        "plt.show()"
      ],
      "metadata": {
        "colab": {
          "base_uri": "https://localhost:8080/",
          "height": 487
        },
        "id": "DrEWCJvrYOC9",
        "outputId": "978b931b-8abd-4c08-969a-9051c2c9101a"
      },
      "execution_count": null,
      "outputs": [
        {
          "output_type": "stream",
          "name": "stdout",
          "text": [
            "Skewness: -0.01\n",
            "Kurtosis: 0.06\n"
          ]
        },
        {
          "output_type": "display_data",
          "data": {
            "text/plain": [
              "<Figure size 640x480 with 1 Axes>"
            ],
            "image/png": "[encoded data removed]"
          },
          "metadata": {}
        }
      ]
    },
    {
      "cell_type": "markdown",
      "source": [
        "**24. Implement the Pearson and Spearman correlation coefficients for a dataset.**"
      ],
      "metadata": {
        "id": "dzwRzsm5YqjA"
      }
    },
    {
      "cell_type": "code",
      "source": [
        "import pandas as pd\n",
        "\n",
        "# Sample dataset\n",
        "data = pd.DataFrame({\n",
        "    \"X\": [10, 20, 30, 40, 50],\n",
        "    \"Y\": [15, 25, 35, 45, 55]\n",
        "})\n",
        "\n",
        "# Compute correlation\n",
        "print(\"Pearson Correlation:\\n\", data.corr(method=\"pearson\"))\n",
        "print(\"\\nSpearman Correlation:\\n\", data.corr(method=\"spearman\"))"
      ],
      "metadata": {
        "colab": {
          "base_uri": "https://localhost:8080/"
        },
        "id": "m-19MuvZYnE0",
        "outputId": "979a0f8d-18ed-4292-ffd1-5502c0d06580"
      },
      "execution_count": null,
      "outputs": [
        {
          "output_type": "stream",
          "name": "stdout",
          "text": [
            "Pearson Correlation:\n",
            "      X    Y\n",
            "X  1.0  1.0\n",
            "Y  1.0  1.0\n",
            "\n",
            "Spearman Correlation:\n",
            "      X    Y\n",
            "X  1.0  1.0\n",
            "Y  1.0  1.0\n"
          ]
        }
      ]
    }
  ]
}